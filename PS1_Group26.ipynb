{
 "cells": [
  {
   "cell_type": "markdown",
   "id": "9af35d0e",
   "metadata": {},
   "source": [
    "# Programming for Economics, Group 26—PS1"
   ]
  },
  {
   "cell_type": "code",
   "execution_count": 50,
   "id": "c3b67703",
   "metadata": {},
   "outputs": [],
   "source": [
    "# Importing relevant libraries\n",
    "import numpy as np\n",
    "from numpy.linalg import eig\n",
    "import matplotlib.pyplot as plt\n",
    "import plotly.express as px \n",
    "import pandas as pd"
   ]
  },
  {
   "cell_type": "markdown",
   "id": "5e0af00f",
   "metadata": {},
   "source": [
    "# Exercise 1"
   ]
  },
  {
   "cell_type": "code",
   "execution_count": 51,
   "id": "0dc555e6",
   "metadata": {},
   "outputs": [
    {
     "name": "stdout",
     "output_type": "stream",
     "text": [
      "The first three elements of l1 are [2, 5, 6]\n",
      "The last two elements of l1 are [2, 2]\n"
     ]
    }
   ],
   "source": [
    "'''\n",
    "Exercise 1a) Extract and print the first 3 elements of the list ([2,5,6]). Extract and print the last 2 elements.\n",
    "'''\n",
    "l1 = [2, 5, 6, 4, 5 ,9, 3, 2, 2] # Defining preliminary list\n",
    "print('The first three elements of l1 are', l1[:3]) # Extracting first 3 elements\n",
    "print('The last two elements of l1 are', l1[-2:]) # Extracting last 2 elements"
   ]
  },
  {
   "cell_type": "code",
   "execution_count": 52,
   "id": "90227729",
   "metadata": {},
   "outputs": [
    {
     "name": "stdout",
     "output_type": "stream",
     "text": [
      "The new list with the replaced element is [2, 5, 4, 4, 5, 9, 7, 2, 2]\n"
     ]
    }
   ],
   "source": [
    "'''\n",
    "Exercise 1b) Replace the 3rd element in the list for number 4. Replace the 7th element in the list for number 7. Print the new list.\n",
    "'''\n",
    "l1[2] = 4\n",
    "l1[6] = 7\n",
    "print('The new list with the replaced element is', l1)"
   ]
  },
  {
   "cell_type": "code",
   "execution_count": 53,
   "id": "8da1ba72",
   "metadata": {},
   "outputs": [
    {
     "name": "stdout",
     "output_type": "stream",
     "text": [
      "The new list replacing the number 9 for 8 using list.index() is [2, 5, 6, 4, 5, 8, 3, 2, 2]\n"
     ]
    }
   ],
   "source": [
    "'''\n",
    "Exercise 1c) Replace the number 9 for 8 using list.index()\n",
    "'''\n",
    "l1 = [2, 5, 6, 4, 5 ,9, 3, 2, 2]\n",
    "l1[l1.index(9)] = 8\n",
    "print('The new list replacing the number 9 for 8 using list.index() is', l1)"
   ]
  },
  {
   "cell_type": "code",
   "execution_count": 54,
   "id": "cb947314",
   "metadata": {},
   "outputs": [
    {
     "name": "stdout",
     "output_type": "stream",
     "text": [
      "The new list replacing the number 9 for 8 using NumPy argmax is [2, 5, 6, 4, 5, 8, 3, 2, 2]\n"
     ]
    }
   ],
   "source": [
    "# Exercise 1d) # d) Replace number 9 for number 8 using NumPy argmax.\n",
    "l1 = [2, 5, 6, 4, 5 ,9, 3, 2, 2]\n",
    "l1[np.argmax(l1)] = 8\n",
    "print('The new list replacing the number 9 for 8 using NumPy argmax is', l1)"
   ]
  },
  {
   "cell_type": "markdown",
   "id": "3731b98a",
   "metadata": {},
   "source": [
    "# Exercise 2"
   ]
  },
  {
   "cell_type": "code",
   "execution_count": 55,
   "id": "10afa105",
   "metadata": {},
   "outputs": [
    {
     "name": "stdout",
     "output_type": "stream",
     "text": [
      "Matrix A =  [[2 5 6]\n",
      " [4 5 9]\n",
      " [3 2 2]]\n"
     ]
    }
   ],
   "source": [
    "'''\n",
    "Exercise 2a) Convert the list into a 3 × 3 matrix (2-d array)\n",
    "'''\n",
    "l1 = [2, 5, 6, 4, 5 ,9, 3, 2, 2]\n",
    "A = np.array(l1).reshape((3, 3))\n",
    "print('Matrix A = ', A)"
   ]
  },
  {
   "cell_type": "code",
   "execution_count": 56,
   "id": "19dcbeef",
   "metadata": {},
   "outputs": [
    {
     "name": "stdout",
     "output_type": "stream",
     "text": [
      "Maximum of matrix A = 9\n",
      "Index of maximum = (array([1]), array([2]))\n"
     ]
    }
   ],
   "source": [
    "'''\n",
    "Exercise 2b) Find the maximum of the matrix A. Find the index of the maximum.\n",
    "'''\n",
    "A_max = A.max()    # maximum element\n",
    "print(\"Maximum of matrix A =\", A_max)\n",
    "\n",
    "index_max = np.where(A == A_max)   # index of the maximum element\n",
    "print(\"Index of maximum =\", index_max)"
   ]
  },
  {
   "cell_type": "code",
   "execution_count": 57,
   "id": "eb7781dc",
   "metadata": {},
   "outputs": [
    {
     "name": "stdout",
     "output_type": "stream",
     "text": [
      "Matrix A transposed = [[2 4 3]\n",
      " [5 5 2]\n",
      " [6 9 2]]\n"
     ]
    }
   ],
   "source": [
    "'''\n",
    "Exercise 2c) Transpose the matrix A\n",
    "'''\n",
    "A_transposed = A.transpose()\n",
    "print('Matrix A transposed =', A_transposed)"
   ]
  },
  {
   "cell_type": "code",
   "execution_count": 58,
   "id": "3d4b08ff",
   "metadata": {},
   "outputs": [
    {
     "name": "stdout",
     "output_type": "stream",
     "text": [
      "Matrix A squared = [[ 65  87  28]\n",
      " [ 87 122  40]\n",
      " [ 28  40  17]]\n",
      "Elements of Matrix A squared = [[ 4 25 36]\n",
      " [16 25 81]\n",
      " [ 9  4  4]]\n"
     ]
    }
   ],
   "source": [
    "'''\n",
    "Exercise 2d) Squared the matrix (i.e. AA′). Raise to the power all the elements in matrix A\n",
    "'''\n",
    "A_squared = A@A_transposed # Squaring matrix A\n",
    "print('Matrix A squared =', A_squared)\n",
    "\n",
    "A_elements_squared = A**2 # Squaring all the elements in matrix A\n",
    "print('Elements of Matrix A squared =', A_elements_squared)"
   ]
  },
  {
   "cell_type": "code",
   "execution_count": 59,
   "id": "b310b29b",
   "metadata": {},
   "outputs": [
    {
     "name": "stdout",
     "output_type": "stream",
     "text": [
      "The eigenvalues of Matrix A are [11.93968476+0.j         -1.46984238+0.96874799j -1.46984238-0.96874799j]\n",
      "The eigenvectors of Matrix A are [[ 0.57405744+0.j          0.03082113-0.49281518j  0.03082113+0.49281518j]\n",
      " [ 0.75175843+0.j          0.65911118+0.j          0.65911118-0.j        ]\n",
      " [ 0.32452631+0.j         -0.48751444+0.28997482j -0.48751444-0.28997482j]]\n"
     ]
    }
   ],
   "source": [
    "'''\n",
    "Exercise 2e) Compute the eigenvalues of matrix A\n",
    "'''\n",
    "w,v=eig(A)\n",
    "print('The eigenvalues of Matrix A are', w)\n",
    "print('The eigenvectors of Matrix A are', v)"
   ]
  },
  {
   "cell_type": "code",
   "execution_count": 60,
   "id": "86e8685e",
   "metadata": {},
   "outputs": [
    {
     "name": "stdout",
     "output_type": "stream",
     "text": [
      "f1 =  [[0. 0. 0.]\n",
      " [0. 0. 0.]\n",
      " [0. 0. 0.]]\n",
      "f2 =  [[2. 5. 6.]\n",
      " [4. 5. 9.]\n",
      " [3. 2. 2.]]\n",
      "f3 =  [[13. 13. 13.]\n",
      " [18. 18. 18.]\n",
      " [ 7.  7.  7.]]\n"
     ]
    }
   ],
   "source": [
    "'''\n",
    "Exercise 2f) Multiply matrix A by a matrix of zeros (f1), by the identity matrix (f2),and by a matrix of ones (f3).\n",
    "'''\n",
    "A_times_zero = A@np.zeros((3,3)) # f1\n",
    "print ('f1 = ', A_times_zero)\n",
    "\n",
    "A_times_identity = A@np.identity(3) # f2\n",
    "print ('f2 = ', A_times_identity)\n",
    "\n",
    "A_times_ones = A@np.ones((3,3)) # f3\n",
    "print ('f3 = ', A_times_ones)"
   ]
  },
  {
   "cell_type": "code",
   "execution_count": 61,
   "id": "75de3e34",
   "metadata": {},
   "outputs": [
    {
     "name": "stdout",
     "output_type": "stream",
     "text": [
      "Matrix AB =  [[ 57.375  72.     86.625]\n",
      " [ 77.625  97.875 118.125]\n",
      " [ 20.25   28.125  36.   ]]\n"
     ]
    }
   ],
   "source": [
    "'''\n",
    "Exercise 2g) Create an even grid from 0 to 9 with 9 elements. Convert the grid into a 3x3 matrix called B. Multiply\n",
    "matrix A by matrix B.\n",
    "'''\n",
    "grid_b = np.linspace(0,9,9) # Creating grid\n",
    "\n",
    "B = grid_b.reshape(3,3) # Converting grid into 3x3 matrix\n",
    "\n",
    "AB = A@B # Multiplying matrix A by matrix B\n",
    "print('Matrix AB = ', AB)"
   ]
  },
  {
   "cell_type": "markdown",
   "id": "8339c058",
   "metadata": {},
   "source": [
    "# Exercise 3"
   ]
  },
  {
   "cell_type": "code",
   "execution_count": 62,
   "id": "50e94e05",
   "metadata": {},
   "outputs": [
    {
     "name": "stdout",
     "output_type": "stream",
     "text": [
      "Printing current number, previous number, and sum of first 10 numbers\n",
      "Sum of 0 and 1 is 1\n",
      "Sum of 1 and 2 is 3\n",
      "Sum of 2 and 3 is 5\n",
      "Sum of 3 and 4 is 7\n",
      "Sum of 4 and 5 is 9\n",
      "Sum of 5 and 6 is 11\n",
      "Sum of 6 and 7 is 13\n",
      "Sum of 7 and 8 is 15\n",
      "Sum of 8 and 9 is 17\n",
      "Sum of 9 and 10 is 19\n",
      "Alternative Method:\n",
      "Sum of 0 and 1 is 1\n",
      "Sum of 1 and 2 is 3\n",
      "Sum of 2 and 3 is 5\n",
      "Sum of 3 and 4 is 7\n",
      "Sum of 4 and 5 is 9\n",
      "Sum of 5 and 6 is 11\n",
      "Sum of 6 and 7 is 13\n",
      "Sum of 7 and 8 is 15\n",
      "Sum of 8 and 9 is 17\n",
      "Sum of 9 and 10 is 19\n"
     ]
    }
   ],
   "source": [
    "'''\n",
    "Exercise 3) Write a code to iterate the first 10 numbers and in each iteration, print the sum of the current and \n",
    "previous number.\n",
    "'''\n",
    "print('Printing current number, previous number, and sum of first 10 numbers')\n",
    "previous_number = 0\n",
    "for i in range(1,11):\n",
    "    sum_numbers = previous_number + i\n",
    "    print(\"Sum of\", previous_number, \"and\", i, \"is\", sum_numbers)\n",
    "    previous_number = i\n",
    "    \n",
    "# Alternative method\n",
    "print('Alternative Method:')\n",
    "for i in range(1, 11):\n",
    "    print(\"Sum of\", i-1, \"and\", i, \"is\", i + i-1)"
   ]
  },
  {
   "cell_type": "markdown",
   "id": "85fdcb76",
   "metadata": {},
   "source": [
    "# Exercise 4"
   ]
  },
  {
   "cell_type": "code",
   "execution_count": 63,
   "id": "649e4370",
   "metadata": {},
   "outputs": [
    {
     "name": "stdout",
     "output_type": "stream",
     "text": [
      "The list of elements in l1 that are smaller than 5 is [2, 4, 3, 2, 2]\n"
     ]
    }
   ],
   "source": [
    "'''\n",
    "Exercise 4a) Create a new list that contains only the elements in list l1 that are smaller than 5.\n",
    "'''\n",
    "l1 = [2, 5, 6, 4, 5 ,9, 3, 2, 2]\n",
    "smaller_than_5 = [] # Create empty list\n",
    "\n",
    "for i in l1: # Create loop to add elements under condition\n",
    "    if i < 5:\n",
    "        smaller_than_5.append(i)\n",
    "\n",
    "print('The list of elements in l1 that are smaller than 5 is', smaller_than_5)"
   ]
  },
  {
   "cell_type": "code",
   "execution_count": 64,
   "id": "cd0c0358",
   "metadata": {},
   "outputs": [
    {
     "name": "stdout",
     "output_type": "stream",
     "text": [
      "The list of elements in l1 bigger or equal than 3 and smaller than 7 is [5, 6, 4, 5, 3]\n"
     ]
    }
   ],
   "source": [
    "'''\n",
    "Exercise 4b) Create a new list that contains only the elements in list l1 bigger or equal than 3 and smaller than 7.\n",
    "'''\n",
    "between_3_7 = [] # Create empty list\n",
    "\n",
    "for i in l1: # Create loop to add elements under condition\n",
    "    if i >= 3 and i < 7:\n",
    "        between_3_7.append(i)\n",
    "\n",
    "print('The list of elements in l1 bigger or equal than 3 and smaller than 7 is', between_3_7)"
   ]
  },
  {
   "cell_type": "code",
   "execution_count": 65,
   "id": "ac620cc8",
   "metadata": {},
   "outputs": [
    {
     "name": "stdout",
     "output_type": "stream",
     "text": [
      "5 is in Matrix A\n"
     ]
    }
   ],
   "source": [
    "'''\n",
    "Exercise 4c) Given matrix A from exercise 2, write a code that checks whether 5 belongs to A.\n",
    "'''\n",
    "l1 = [2, 5, 6, 4, 5 ,9, 3, 2, 2]\n",
    "A = np.array(l1).reshape((3, 3))\n",
    "\n",
    "if (A == 5).any() == True: # Checks whether 5 belongs to A\n",
    "    print('5 is in Matrix A')\n",
    "else:\n",
    "    print('5 is not in Matrix A')"
   ]
  },
  {
   "cell_type": "code",
   "execution_count": 66,
   "id": "e43a694e",
   "metadata": {},
   "outputs": [
    {
     "name": "stdout",
     "output_type": "stream",
     "text": [
      "Matrix B =  [[0 5 6]\n",
      " [4 5 9]\n",
      " [0 0 0]]\n"
     ]
    }
   ],
   "source": [
    "'''\n",
    "Exercise 4d) Create a new matrix B that is equal to matrix A but where numbers below 4 are replaced by zeroes.\n",
    "'''\n",
    "\n",
    "list_B = [] # Creating an empty list\n",
    "\n",
    "for row in A: # For loop to add values to list\n",
    "    for element in row:\n",
    "        if element >= 4:\n",
    "            list_B.append(element)\n",
    "        else:\n",
    "            list_B.append(0)\n",
    "          \n",
    "flat_B = np.array(list_B) # Turning list into array B\n",
    "B = np.array(flat_B).reshape((3, 3)) # Turning list into array B\n",
    "\n",
    "print('Matrix B = ', B)"
   ]
  },
  {
   "cell_type": "code",
   "execution_count": 67,
   "id": "19f9a5a4",
   "metadata": {},
   "outputs": [
    {
     "name": "stdout",
     "output_type": "stream",
     "text": [
      "There are 4 zeros in Matrix B.\n"
     ]
    }
   ],
   "source": [
    "'''\n",
    "Exercise 4e) Write a code that counts the number of zeros in matrix B.\n",
    "'''\n",
    "zero_count = 0\n",
    "\n",
    "for row in B:\n",
    "    for element in row:\n",
    "        if element == 0:\n",
    "            zero_count += 1\n",
    "\n",
    "print('There are', zero_count, 'zeros in Matrix B.')"
   ]
  },
  {
   "cell_type": "markdown",
   "id": "4bcfa08c",
   "metadata": {},
   "source": [
    "# Exercise 5"
   ]
  },
  {
   "cell_type": "code",
   "execution_count": 68,
   "id": "5341367e",
   "metadata": {},
   "outputs": [],
   "source": [
    "'''\n",
    "Exercise 5a) Create a function that given the arguments K, L, A, α, σ, returns output Y. You can have inside the \n",
    "function an if statement for when σ = 1 the output Y comes from Cobb-Douglas production function, else from the CES\n",
    "function.\n",
    "'''\n",
    "# Creating function\n",
    "def Y(K, L, A, α, σ):\n",
    "    if σ == 1:\n",
    "        cobb_douglas = A * K**α * L**(1-α)\n",
    "        return cobb_douglas\n",
    "    else:\n",
    "        CES = A * (α * K**((σ-1)/σ) + (1-α) * L**((σ-1)/σ))**(σ/(σ-1))\n",
    "        return CES"
   ]
  },
  {
   "cell_type": "code",
   "execution_count": 69,
   "id": "1fb84b16",
   "metadata": {},
   "outputs": [
    {
     "data": {
      "image/png": "[encoded data removed]",
      "text/plain": [
       "<Figure size 432x288 with 1 Axes>"
      ]
     },
     "metadata": {
      "needs_background": "light"
     },
     "output_type": "display_data"
    }
   ],
   "source": [
    "'''\n",
    "Exercise 5b) From now on work with the following parameterization: A = 1.5, α = 0.33. Cobb-Douglas production function. \n",
    "First consider the Cobb-Douglas case with σ = 1. Compute output Y for an even-spaced grid of K, \n",
    "G_k = {0, 1, 2, 3, 4, 5, 6, 7, 8, 9, 10}, and a fixed L = 3. Plot the resuls—make an x-y plot with the grid of K in the x and \n",
    "output Y in the axis y.\n",
    "'''\n",
    "# Parameter values\n",
    "A = 1.5\n",
    "α = 0.33\n",
    "\n",
    "K = np.linspace(0,10,11) # Creating K (grid of capital inputs)\n",
    "L = 3 # Defining fixed L = 3\n",
    "σ = 1 # Defining fixed σ = 1\n",
    "\n",
    "output_Y = Y(K,L,A,α,σ)\n",
    "\n",
    "# Creating x-y plot\n",
    "fig, ax = plt.subplots()\n",
    "ax.plot(K, output_Y, linewidth=2.0)\n",
    "\n",
    "plt.xlabel(\"K\")\n",
    "plt.ylabel(\"Y\")\n",
    "plt.title(\"Cobb-Douglas Production Function, σ = 1\")\n",
    "\n",
    "plt.show()"
   ]
  },
  {
   "cell_type": "code",
   "execution_count": 70,
   "id": "c91a8ad6",
   "metadata": {},
   "outputs": [
    {
     "data": {
      "image/png": "[encoded data removed]",
      "text/plain": [
       "<Figure size 432x288 with 1 Axes>"
      ]
     },
     "metadata": {
      "needs_background": "light"
     },
     "output_type": "display_data"
    }
   ],
   "source": [
    "'''\n",
    "Exercise 5c) From b recompute output Y for the 3 cases α = 0.25, α = 0.5, α = 0.75. Make an x − y plot with the 3 \n",
    "production functions in the same graph.\n",
    "'''\n",
    "\n",
    "# Recomputing output Y for the 3 Cobb-Douglas cases\n",
    "case1_α = 0.25 # Defining Case 1: α = 0.25\n",
    "case1_output_Y = Y(K,L,A,case1_α,σ)\n",
    "\n",
    "case2_α = 0.5 # Defining Case 2: α = 0.5\n",
    "case2_output_Y = Y(K,L,A,case2_α,σ)\n",
    "\n",
    "case3_α = 0.75 # Defining Case 3: α = 0.75\n",
    "case3_output_Y = Y(K,L,A,case3_α,σ)\n",
    "\n",
    "# Plotting all 3 production functions together\n",
    "fig, ax = plt.subplots()\n",
    "ax.plot(K, case1_output_Y, linewidth=2.0, color='b', label=\"α=0.25\")\n",
    "ax.plot(K, case2_output_Y, linewidth=2.0, color='r', label=\"α=0.5\")\n",
    "ax.plot(K, case3_output_Y, linewidth=2.0, color='g', label=\"α=0.75\")\n",
    "\n",
    "plt.xlabel(\"K\")\n",
    "plt.ylabel(\"Y\")\n",
    "plt.title(\"Cobb-Douglas Production Function for Differeing Levels of σ\")\n",
    "  \n",
    "plt.legend()\n",
    "plt.show()"
   ]
  },
  {
   "cell_type": "code",
   "execution_count": 71,
   "id": "fb661c3d",
   "metadata": {},
   "outputs": [
    {
     "name": "stderr",
     "output_type": "stream",
     "text": [
      "/tmp/ipykernel_70/3001885806.py:12: RuntimeWarning: divide by zero encountered in power\n",
      "  CES = A * (α * K**((σ-1)/σ) + (1-α) * L**((σ-1)/σ))**(σ/(σ-1))\n"
     ]
    },
    {
     "data": {
      "image/png": "[encoded data removed]",
      "text/plain": [
       "<Figure size 432x288 with 1 Axes>"
      ]
     },
     "metadata": {
      "needs_background": "light"
     },
     "output_type": "display_data"
    }
   ],
   "source": [
    "'''\n",
    "Exercise 5d) CES production function. Redo exercise b but for σ = 0.33\n",
    "'''\n",
    "\n",
    "σ_CES = 0.33 # Defining new σsigma\n",
    "output_Y_CES = Y(K,L,A,α,σ_CES)\n",
    "\n",
    "# Creating x-y plot\n",
    "fig, ax = plt.subplots()\n",
    "ax.plot(K, output_Y_CES, linewidth=2.0)\n",
    "\n",
    "plt.xlabel(\"K\")\n",
    "plt.ylabel(\"Y\")\n",
    "plt.title(\"CES Production Function, σ = 0.33\")\n",
    "\n",
    "plt.show()"
   ]
  },
  {
   "cell_type": "code",
   "execution_count": 72,
   "id": "bf146c90",
   "metadata": {},
   "outputs": [
    {
     "name": "stderr",
     "output_type": "stream",
     "text": [
      "/tmp/ipykernel_70/3001885806.py:12: RuntimeWarning: divide by zero encountered in power\n",
      "  CES = A * (α * K**((σ-1)/σ) + (1-α) * L**((σ-1)/σ))**(σ/(σ-1))\n",
      "/tmp/ipykernel_70/3001885806.py:12: RuntimeWarning: divide by zero encountered in reciprocal\n",
      "  CES = A * (α * K**((σ-1)/σ) + (1-α) * L**((σ-1)/σ))**(σ/(σ-1))\n"
     ]
    },
    {
     "data": {
      "image/png": "[encoded data removed]",
      "text/plain": [
       "<Figure size 432x288 with 1 Axes>"
      ]
     },
     "metadata": {
      "needs_background": "light"
     },
     "output_type": "display_data"
    }
   ],
   "source": [
    "'''\n",
    "Exercise 5e) Keeping α = 0.33, plot output Y vs the grid of capital for the cases of σ = 0.25, σ = 0.5, σ = 1, \n",
    "σ = 2, σ = 4.\n",
    "'''\n",
    "\n",
    "# Recomputing output Y for the 5 CES cases\n",
    "CEScase1_σ = 0.25 # Defining Case 1: σ = 0.25\n",
    "CEScase1_output_Y = Y(K,L,A,α,CEScase1_σ)\n",
    "\n",
    "CEScase2_σ = 0.5 # Defining Case 2: σ = 0.5\n",
    "CEScase2_output_Y = Y(K,L,A,α,CEScase2_σ)\n",
    "\n",
    "CEScase3_σ = 1 # Defining Case 3: σ = 1\n",
    "CEScase3_output_Y = Y(K,L,A,α,CEScase3_σ)\n",
    "\n",
    "CEScase4_σ = 2 # Defining Case 4: σ = 2\n",
    "CEScase4_output_Y = Y(K,L,A,α,CEScase4_σ)\n",
    "\n",
    "CEScase5_σ = 4 # Defining Case 5: σ = 4\n",
    "CEScase5_output_Y = Y(K,L,A,α,CEScase5_σ)\n",
    "\n",
    "# Plotting all 5 CES production functions together\n",
    "fig, ax = plt.subplots()\n",
    "ax.plot(K, CEScase1_output_Y, linewidth=2.0, color='b', label=\"σ=0.25\")\n",
    "ax.plot(K, CEScase2_output_Y, linewidth=2.0, color='g', label=\"σ=0.5\")\n",
    "ax.plot(K, CEScase3_output_Y, linewidth=2.0, color='c', label=\"σ=1\")\n",
    "ax.plot(K, CEScase4_output_Y, linewidth=2.0, color='y', label=\"σ=2\")\n",
    "ax.plot(K, CEScase5_output_Y, linewidth=2.0, color='r', label=\"σ=4\")\n",
    "\n",
    "plt.xlabel(\"K\")\n",
    "plt.ylabel(\"Y\")\n",
    "plt.title(\"CES Production Function for Differeing Levels of σ\")\n",
    "  \n",
    "plt.legend()\n",
    "plt.show()"
   ]
  },
  {
   "cell_type": "code",
   "execution_count": 73,
   "id": "03221211",
   "metadata": {},
   "outputs": [
    {
     "name": "stdout",
     "output_type": "stream",
     "text": [
      "\n",
      "For all of the σ levels, the CES production function exhibits diminishing marginal returns to K. This means\n",
      "Y is an increasing function of K, which makes sense because more capital increases production, but each increase\n",
      "in capital becomes smaller as the amount of capital increases. We observe that as σ increases, the CES\n",
      "production function exhibits slower diminishing marginal returns to K. In other words, Y transitions from\n",
      "logarithmic curves towards more linear curves as σ increases.\n",
      "\n",
      "σ captures the relative degree of substitutability/complementarity between the two factors of production K, L. \n",
      "As σ increases, K and L become more substitutable as the exponent that K and L are raised to in the CES \n",
      "production function approaches 1. Intuitively, an increase in σ slows diminishing marginal returns to capital \n",
      "because either capital or labor could be used to increase production by a similar amount; adding an additional unit\n",
      "of capital becomes approximately equivalent to adding an additional unit of labour, so rather than diminishing\n",
      "returns, the CES production function starts to almost exhibit constant returns to scale in K.\n",
      "\n"
     ]
    }
   ],
   "source": [
    "'''\n",
    "Exercise 5f) How does output Y change along K for the different σ specifications? Can you provide the economic \n",
    "interpretation? Hint: σ captures the relative degree of substitutability/complementarity between the two inputs \n",
    "K, L.\n",
    "'''\n",
    "\n",
    "print(\n",
    "'''\n",
    "For all of the σ levels, the CES production function exhibits diminishing marginal returns to K. This means\n",
    "Y is an increasing function of K, which makes sense because more capital increases production, but each increase\n",
    "in capital becomes smaller as the amount of capital increases. We observe that as σ increases, the CES\n",
    "production function exhibits slower diminishing marginal returns to K. In other words, Y transitions from\n",
    "logarithmic curves towards more linear curves as σ increases.\n",
    "\n",
    "σ captures the relative degree of substitutability/complementarity between the two factors of production K, L. \n",
    "As σ increases, K and L become more substitutable as the exponent that K and L are raised to in the CES \n",
    "production function approaches 1. Intuitively, an increase in σ slows diminishing marginal returns to capital \n",
    "because either capital or labor could be used to increase production by a similar amount; adding an additional unit\n",
    "of capital becomes approximately equivalent to adding an additional unit of labour, so rather than diminishing\n",
    "returns, the CES production function starts to almost exhibit constant returns to scale in K.\n",
    "'''\n",
    ")"
   ]
  }
 ],
 "metadata": {
  "kernelspec": {
   "display_name": "Python 3 (ipykernel)",
   "language": "python",
   "name": "python3"
  },
  "language_info": {
   "codemirror_mode": {
    "name": "ipython",
    "version": 3
   },
   "file_extension": ".py",
   "mimetype": "text/x-python",
   "name": "python",
   "nbconvert_exporter": "python",
   "pygments_lexer": "ipython3",
   "version": "3.9.12"
  }
 },
 "nbformat": 4,
 "nbformat_minor": 5
}
